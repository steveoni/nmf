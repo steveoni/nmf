{
 "cells": [
  {
   "cell_type": "code",
   "execution_count": 1,
   "metadata": {
    "collapsed": true
   },
   "outputs": [],
   "source": [
    "import feedparser\n",
    "import re\n",
    "\n",
    "feedlist = ['http://today.reuters.com/rss/topNews',\n",
    "          'http://today.reuters.com/rss/domesticNews',\n",
    "          'http://today.reuters.com/rss/worldNews',\n",
    "          'http://hosted.ap.org/lineups/TOPHEADS-rss_2.0.xml',\n",
    "          'http://hosted.ap.org/lineups/USHEADS-rss_2.0.xml',\n",
    "          'http://rss.cnn.com/rss/edition_us.rss',\n",
    "          'http://hosted.ap.org/lineups/WORLDHEADS-rss_2.0.xml',\n",
    "          'http://hosted.ap.org/lineups/POLITICSHEADS-rss_2.0.xml',\n",
    "          'http://www.nytimes.com/services/xml/rss/nyt/HomePage.xml',\n",
    "          'http://www.nytimes.com/services/xml/rss/nyt/International.xml',\n",
    "          'http://news.google.com/?output=rss',\n",
    "          'http://feeds.salon.com/salon/news','http://www.foxnews.com/xmlfeed/rss/0,4313,0,00.rss',\n",
    "          'http://www.foxnews.com/xmlfeed/rss/0,4313,80,00.rss',\n",
    "          'http://www.foxnews.com/xmlfeed/rss/0,4313,81,00.rss',\n",
    "          'http://www.foxnews.com/xmlfeed/rss/0,4313,0,00.rs',\n",
    "          'http://rss.cnn.com/rss/edition_world.rss'\n",
    "          ]\n",
    "\n",
    "def stripHTML(h):\n",
    "    p = ''\n",
    "    s =0\n",
    "    for c in h:\n",
    "        if c=='<': s=1\n",
    "        elif c=='>':\n",
    "            s=0\n",
    "            p+= ' '\n",
    "        elif s==0: p+=c\n",
    "    return p\n",
    "\n",
    "def separatewords(text):\n",
    "    splitter = re.compile('\\\\W*')\n",
    "    return [s.lower() for s in splitter.split(text) if len(s)>3]\n",
    "\n",
    "def getarticlewords():\n",
    "    allwords = {}\n",
    "    articlewords = []\n",
    "    articletitles = []\n",
    "    ec = 0\n",
    "    \n",
    "    for feed in feedlist:\n",
    "        f = feedparser.parse(feed)\n",
    "        print feed\n",
    "        for e in f.entries:\n",
    "            if e.title in articletitles: continue\n",
    "            #print e.description==e.summary\n",
    "            \n",
    "            #if e.summary not in e: continue\n",
    "            txt =e.title.encode('utf8')+stripHTML(e.description.encode('utf8'))\n",
    "            words = separatewords(txt)\n",
    "            \n",
    "            articletitles.append(e.title)\n",
    "            articlewords.append(txt)\n",
    "            \n",
    "            \n",
    "            \n",
    "            \n",
    "    return articlewords,articletitles"
   ]
  },
  {
   "cell_type": "code",
   "execution_count": 2,
   "metadata": {
    "collapsed": false
   },
   "outputs": [
    {
     "name": "stdout",
     "output_type": "stream",
     "text": [
      "http://today.reuters.com/rss/topNews\n",
      "http://today.reuters.com/rss/domesticNews\n",
      "http://today.reuters.com/rss/worldNews\n",
      "http://hosted.ap.org/lineups/TOPHEADS-rss_2.0.xml\n",
      "http://hosted.ap.org/lineups/USHEADS-rss_2.0.xml\n",
      "http://rss.cnn.com/rss/edition_us.rss\n",
      "http://hosted.ap.org/lineups/WORLDHEADS-rss_2.0.xml\n",
      "http://hosted.ap.org/lineups/POLITICSHEADS-rss_2.0.xml\n",
      "http://www.nytimes.com/services/xml/rss/nyt/HomePage.xml\n",
      "http://www.nytimes.com/services/xml/rss/nyt/International.xml\n",
      "http://news.google.com/?output=rss\n",
      "http://feeds.salon.com/salon/news\n",
      "http://www.foxnews.com/xmlfeed/rss/0,4313,0,00.rss\n",
      "http://www.foxnews.com/xmlfeed/rss/0,4313,80,00.rss\n",
      "http://www.foxnews.com/xmlfeed/rss/0,4313,81,00.rss\n",
      "http://www.foxnews.com/xmlfeed/rss/0,4313,0,00.rs\n",
      "http://rss.cnn.com/rss/edition_world.rss\n"
     ]
    }
   ],
   "source": [
    "artw,artt = getarticlewords()"
   ]
  },
  {
   "cell_type": "code",
   "execution_count": 3,
   "metadata": {
    "collapsed": false
   },
   "outputs": [
    {
     "name": "stdout",
     "output_type": "stream",
     "text": [
      "[\"Police: Maryland school shooter was killed by his own bullet, not the school resource officer'sAlthough a school resource officer did fire at the teen who'd shot two fellow students at a Maryland high school last week, the shooter died of a bullet from his own gun, authorities say. \", \"There has been, on average, 1 school shooting every week this yearWe're only 12 weeks into 2018, and there have already been 17 school shootings where someone was hurt or killed. That averages out to 1.4 shootings a week. \", 'Girl critically wounded in Maryland school shooting diesThe 16-year-old girl wounded by an armed student at Great Mills High School in southern Maryland early this week has died, her family and authorities said Friday. ', 'Maryland governor: We need more than prayersMaryland Governor Larry Hogan remarks that more than thoughts and prayers are needed after a school shooting at Great Mills High School in Maryland. ', \"CNN Poll: Nearly 2/3 approve of Trump's plan to meet Kim Jong UnWith the White House and North Korea's tentative agreement for President Donald Trump and North Korean leader Kim Jong-Un to meet, Americans' concerns about the threat from North Korea have abated and Trump's approval ratings for handling the situation there have risen, according to a new CNN poll conducted by SSRS. \", \"States decry census citizenship questionThe Commerce Department announced that the question of citizenship will again be included in the 2020 Census at the request of the Justice Department, but some states are resistant to the idea.  CNN's Kyung Lah reports. \", \"Once you check into Trump's world, you rarely check outFor President Donald Trump -- a creature of habit and routine -- once an adviser, always an adviser. \", 'Is White House Counsel\\'s Office looking into Kushner? The answer isn\\'t clearAfter White House press secretary Sarah Sanders said Tuesday the White House is \"not probing whether Jared Kushner violated the law,\" questions remain about what exactly the White House Counsel\\'s Office is looking into, with respect to President Donald Trump\\'s son-in-law and senior adviser. ', 'Will Warren Buffett swoop in to rescue GE again? ', 'Wall Street bonuses soar 17% to an average of $184,200 ']\n"
     ]
    }
   ],
   "source": [
    "print artw[:10]"
   ]
  },
  {
   "cell_type": "code",
   "execution_count": 4,
   "metadata": {
    "collapsed": false
   },
   "outputs": [],
   "source": [
    "import numpy as np\n",
    "from sklearn.decomposition import NMF\n",
    "from sklearn.feature_extraction.text import TfidfVectorizer,CountVectorizer\n",
    "\n",
    "vectorizer = CountVectorizer(min_df=3,max_df=0.95,stop_words=\"english\")\n",
    "x = vectorizer.fit_transform(artw)\n",
    "nmf = NMF(n_components=20,random_state=1,\n",
    "          alpha=.1, l1_ratio=.5)\n",
    "w  = nmf.fit_transform(x)\n",
    "h = nmf.components_\n"
   ]
  },
  {
   "cell_type": "code",
   "execution_count": 55,
   "metadata": {
    "collapsed": true
   },
   "outputs": [],
   "source": [
    "from numpy import *\n",
    "from operator import itemgetter, attrgetter, methodcaller\n",
    "def showfeatures(w,h,titles,wordvec,out=\"features.txt\"):\n",
    "    \n",
    "    outfile = file(out,'w')\n",
    "    pc,wc = shape(h)\n",
    "    toppatterns=[[] for i in range(len(titles))]\n",
    "    \n",
    "    patternnames = []\n",
    "    \n",
    "    #loop for each features\n",
    "    \n",
    "    for i in range(pc):\n",
    "        slist = []\n",
    "        \n",
    "        for j in range(wc):\n",
    "            slist.append((h[i,j],wordvec[j]))\n",
    "        a=sorted(slist,key=itemgetter(0),reverse=True)\n",
    "        \n",
    "        \n",
    "        n = [s[1] for s in a[0:6]]\n",
    "        outfile.write(str(n)+'\\n')\n",
    "        patternnames.append(n)\n",
    "        \n",
    "        flist = []\n",
    "        for j in range(len(titles)):\n",
    "            flist.append((w[j,i],titles[j]))\n",
    "            toppatterns[j].append((w[j,i],i,titles))\n",
    "            \n",
    "        flist.sort()\n",
    "        flist.reverse()\n",
    "        \n",
    "        for f in flist[0:3]:\n",
    "            outfile.write(str(f)+'\\n')\n",
    "            outfile.write('\\n')\n",
    "            \n",
    "    outfile.close()\n",
    "    return toppatterns,patternnames\n",
    "    "
   ]
  },
  {
   "cell_type": "code",
   "execution_count": 52,
   "metadata": {
    "collapsed": false
   },
   "outputs": [],
   "source": [
    "wordvec = vectorizer.get_feature_names()\n",
    "topp,pn = showfeatures(w,h,artt,wordvec)\n",
    "#pc,wc= shape(h)\n",
    "\n",
    "#for i in range(pc):\n",
    "#    slist = []\n",
    "#    for j in range(wc):\n",
    "#        slist.append((h[i,j],x[j]))\n",
    "    \n"
   ]
  },
  {
   "cell_type": "code",
   "execution_count": 53,
   "metadata": {
    "collapsed": true
   },
   "outputs": [],
   "source": [
    "def showarticles(titles,toppatterns,patternnames,out='articles.txt'):\n",
    "    \n",
    "    outfile = file(out,'w')\n",
    "    \n",
    "    for j in range(len(titles)):\n",
    "        outfile.write(titles[j].encode('utf8')+'\\n')\n",
    "        \n",
    "        toppatterns[j].sort()\n",
    "        toppatterns[j].reverse()\n",
    "        \n",
    "        for i in range(3):\n",
    "            outfile.write(str(toppatterns[j][i][0])+' '+\n",
    "                         str(patternnames[toppatterns[j][i][1]])+'\\n')\n",
    "            \n",
    "        outfile.write('\\n')\n",
    "        \n",
    "    outfile.close()"
   ]
  },
  {
   "cell_type": "code",
   "execution_count": 54,
   "metadata": {
    "collapsed": false
   },
   "outputs": [],
   "source": [
    "showarticles(artt,topp,pn)"
   ]
  },
  {
   "cell_type": "code",
   "execution_count": null,
   "metadata": {
    "collapsed": true
   },
   "outputs": [],
   "source": []
  }
 ],
 "metadata": {
  "kernelspec": {
   "display_name": "Python 2",
   "language": "python",
   "name": "python2"
  },
  "language_info": {
   "codemirror_mode": {
    "name": "ipython",
    "version": 2
   },
   "file_extension": ".py",
   "mimetype": "text/x-python",
   "name": "python",
   "nbconvert_exporter": "python",
   "pygments_lexer": "ipython2",
   "version": "2.7.13"
  }
 },
 "nbformat": 4,
 "nbformat_minor": 2
}
